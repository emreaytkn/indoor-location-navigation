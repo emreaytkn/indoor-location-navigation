{
 "cells": [
  {
   "cell_type": "code",
   "execution_count": 1,
   "id": "88675935",
   "metadata": {},
   "outputs": [],
   "source": [
    "import json, os\n",
    "from pathlib import Path"
   ]
  },
  {
   "cell_type": "code",
   "execution_count": 2,
   "id": "a9997546",
   "metadata": {},
   "outputs": [],
   "source": [
    "floor_data_dir = './data/site1/F1'\n",
    "path_data_dir = floor_data_dir + '/path_data_files'\n",
    "floor_plan_filename = floor_data_dir + '/floor_image.png'\n",
    "floor_info_filename = floor_data_dir + '/floor_info.json'"
   ]
  },
  {
   "cell_type": "code",
   "execution_count": 3,
   "id": "b67f0a64",
   "metadata": {},
   "outputs": [],
   "source": [
    "save_dir = './output/site1/F1'\n",
    "path_image_save_dir = save_dir + '/path_images'\n",
    "step_position_image_save_dir = save_dir\n",
    "magn_image_save_dir = save_dir\n",
    "wifi_image_save_dir = save_dir + '/wifi_images'\n",
    "ibeacon_image_save_dir = save_dir + '/ibeacon_images'\n",
    "wifi_count_image_save_dir = save_dir"
   ]
  },
  {
   "cell_type": "code",
   "execution_count": null,
   "id": "20e33d00",
   "metadata": {},
   "outputs": [],
   "source": [
    "Path(path_image_save_dir).mkdir(parents=True, exist_ok=True)\n",
    "Path(magn_image_save_dir).mkdir(parents=True, exist_ok=True)\n",
    "Path(wifi_image_save_dir).mkdir(parents=True, exist_ok=True)\n",
    "Path(ibeacon_image_save_dir).mkdir(parents=True, exist_ok=True)\n",
    "\n",
    "with open(floor_info_filename) as f:\n",
    "    floor_info = json.load(f)\n",
    "width_meter = floor_info[\"map_info\"][\"width\"]\n",
    "height_meter = floor_info[\"map_info\"][\"height\"]\n",
    "\n",
    "path_filenames = list(Path(path_data_dir).resolve().glob(\"*.txt\"))\n",
    "\n",
    "# 1. visualize ground truth positions\n",
    "print('Visualizing ground truth positions...')\n",
    "for path_filename in path_filenames:\n",
    "    print(f'Processing file: {path_filename}...')\n",
    "\n",
    "    path_data = read_data_file(path_filename)\n",
    "    path_id = path_filename.name.split(\".\")[0]\n",
    "    fig = visualize_trajectory(path_data.waypoint[:, 1:3], floor_plan_filename, width_meter, height_meter, title=path_id, show=False)\n",
    "    html_filename = f'{path_image_save_dir}/{path_id}.html'\n",
    "    html_filename = str(Path(html_filename).resolve())\n",
    "    save_figure_to_html(fig, html_filename)\n"
   ]
  }
 ],
 "metadata": {
  "kernelspec": {
   "display_name": "Python 3 (ipykernel)",
   "language": "python",
   "name": "python3"
  },
  "language_info": {
   "codemirror_mode": {
    "name": "ipython",
    "version": 3
   },
   "file_extension": ".py",
   "mimetype": "text/x-python",
   "name": "python",
   "nbconvert_exporter": "python",
   "pygments_lexer": "ipython3",
   "version": "3.8.0"
  }
 },
 "nbformat": 4,
 "nbformat_minor": 5
}
